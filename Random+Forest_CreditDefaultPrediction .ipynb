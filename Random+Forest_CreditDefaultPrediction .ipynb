{
 "cells": [
  {
   "cell_type": "markdown",
   "metadata": {},
   "source": [
    "## Random Forest - Credit Default Prediction"
   ]
  },
  {
   "cell_type": "markdown",
   "metadata": {},
   "source": [
    "In this lab, we will build a random forest model to predict whether a given customer defaults or not. Credit default is one of the most important problems in the banking and risk analytics industry. There are various attributes which can be used to predict default, such as demographic data (age, income, employment status, etc.), (credit) behavioural data (past loans, payment, number of times a credit payment has been delayed by the customer etc.).\n",
    "\n",
    "We'll start the process with data cleaning and preparation and then tune the model to find optimal hyperparameters."
   ]
  },
  {
   "cell_type": "markdown",
   "metadata": {},
   "source": [
    "<hr>"
   ]
  },
  {
   "cell_type": "markdown",
   "metadata": {},
   "source": [
    "### Data Understanding and Cleaning"
   ]
  },
  {
   "cell_type": "code",
   "execution_count": 1,
   "metadata": {},
   "outputs": [],
   "source": [
    "# Importing the required libraries\n",
    "import pandas as pd\n",
    "import numpy as np\n",
    "import matplotlib.pyplot as plt\n",
    "import seaborn as sns\n",
    "%matplotlib inline\n",
    "\n",
    "# To ignore warnings\n",
    "import warnings\n",
    "warnings.filterwarnings(\"ignore\")"
   ]
  },
  {
   "cell_type": "code",
   "execution_count": 2,
   "metadata": {},
   "outputs": [
    {
     "data": {
      "text/html": [
       "<div>\n",
       "<style scoped>\n",
       "    .dataframe tbody tr th:only-of-type {\n",
       "        vertical-align: middle;\n",
       "    }\n",
       "\n",
       "    .dataframe tbody tr th {\n",
       "        vertical-align: top;\n",
       "    }\n",
       "\n",
       "    .dataframe thead th {\n",
       "        text-align: right;\n",
       "    }\n",
       "</style>\n",
       "<table border=\"1\" class=\"dataframe\">\n",
       "  <thead>\n",
       "    <tr style=\"text-align: right;\">\n",
       "      <th></th>\n",
       "      <th>ID</th>\n",
       "      <th>LIMIT_BAL</th>\n",
       "      <th>SEX</th>\n",
       "      <th>EDUCATION</th>\n",
       "      <th>MARRIAGE</th>\n",
       "      <th>AGE</th>\n",
       "      <th>PAY_0</th>\n",
       "      <th>PAY_2</th>\n",
       "      <th>PAY_3</th>\n",
       "      <th>PAY_4</th>\n",
       "      <th>...</th>\n",
       "      <th>BILL_AMT4</th>\n",
       "      <th>BILL_AMT5</th>\n",
       "      <th>BILL_AMT6</th>\n",
       "      <th>PAY_AMT1</th>\n",
       "      <th>PAY_AMT2</th>\n",
       "      <th>PAY_AMT3</th>\n",
       "      <th>PAY_AMT4</th>\n",
       "      <th>PAY_AMT5</th>\n",
       "      <th>PAY_AMT6</th>\n",
       "      <th>defaulted</th>\n",
       "    </tr>\n",
       "  </thead>\n",
       "  <tbody>\n",
       "    <tr>\n",
       "      <th>0</th>\n",
       "      <td>1</td>\n",
       "      <td>20000</td>\n",
       "      <td>2</td>\n",
       "      <td>2</td>\n",
       "      <td>1</td>\n",
       "      <td>24</td>\n",
       "      <td>2</td>\n",
       "      <td>2</td>\n",
       "      <td>-1</td>\n",
       "      <td>-1</td>\n",
       "      <td>...</td>\n",
       "      <td>0</td>\n",
       "      <td>0</td>\n",
       "      <td>0</td>\n",
       "      <td>0</td>\n",
       "      <td>689</td>\n",
       "      <td>0</td>\n",
       "      <td>0</td>\n",
       "      <td>0</td>\n",
       "      <td>0</td>\n",
       "      <td>1</td>\n",
       "    </tr>\n",
       "    <tr>\n",
       "      <th>1</th>\n",
       "      <td>2</td>\n",
       "      <td>120000</td>\n",
       "      <td>2</td>\n",
       "      <td>2</td>\n",
       "      <td>2</td>\n",
       "      <td>26</td>\n",
       "      <td>-1</td>\n",
       "      <td>2</td>\n",
       "      <td>0</td>\n",
       "      <td>0</td>\n",
       "      <td>...</td>\n",
       "      <td>3272</td>\n",
       "      <td>3455</td>\n",
       "      <td>3261</td>\n",
       "      <td>0</td>\n",
       "      <td>1000</td>\n",
       "      <td>1000</td>\n",
       "      <td>1000</td>\n",
       "      <td>0</td>\n",
       "      <td>2000</td>\n",
       "      <td>1</td>\n",
       "    </tr>\n",
       "    <tr>\n",
       "      <th>2</th>\n",
       "      <td>3</td>\n",
       "      <td>90000</td>\n",
       "      <td>2</td>\n",
       "      <td>2</td>\n",
       "      <td>2</td>\n",
       "      <td>34</td>\n",
       "      <td>0</td>\n",
       "      <td>0</td>\n",
       "      <td>0</td>\n",
       "      <td>0</td>\n",
       "      <td>...</td>\n",
       "      <td>14331</td>\n",
       "      <td>14948</td>\n",
       "      <td>15549</td>\n",
       "      <td>1518</td>\n",
       "      <td>1500</td>\n",
       "      <td>1000</td>\n",
       "      <td>1000</td>\n",
       "      <td>1000</td>\n",
       "      <td>5000</td>\n",
       "      <td>0</td>\n",
       "    </tr>\n",
       "    <tr>\n",
       "      <th>3</th>\n",
       "      <td>4</td>\n",
       "      <td>50000</td>\n",
       "      <td>2</td>\n",
       "      <td>2</td>\n",
       "      <td>1</td>\n",
       "      <td>37</td>\n",
       "      <td>0</td>\n",
       "      <td>0</td>\n",
       "      <td>0</td>\n",
       "      <td>0</td>\n",
       "      <td>...</td>\n",
       "      <td>28314</td>\n",
       "      <td>28959</td>\n",
       "      <td>29547</td>\n",
       "      <td>2000</td>\n",
       "      <td>2019</td>\n",
       "      <td>1200</td>\n",
       "      <td>1100</td>\n",
       "      <td>1069</td>\n",
       "      <td>1000</td>\n",
       "      <td>0</td>\n",
       "    </tr>\n",
       "    <tr>\n",
       "      <th>4</th>\n",
       "      <td>5</td>\n",
       "      <td>50000</td>\n",
       "      <td>1</td>\n",
       "      <td>2</td>\n",
       "      <td>1</td>\n",
       "      <td>57</td>\n",
       "      <td>-1</td>\n",
       "      <td>0</td>\n",
       "      <td>-1</td>\n",
       "      <td>0</td>\n",
       "      <td>...</td>\n",
       "      <td>20940</td>\n",
       "      <td>19146</td>\n",
       "      <td>19131</td>\n",
       "      <td>2000</td>\n",
       "      <td>36681</td>\n",
       "      <td>10000</td>\n",
       "      <td>9000</td>\n",
       "      <td>689</td>\n",
       "      <td>679</td>\n",
       "      <td>0</td>\n",
       "    </tr>\n",
       "  </tbody>\n",
       "</table>\n",
       "<p>5 rows × 25 columns</p>\n",
       "</div>"
      ],
      "text/plain": [
       "   ID  LIMIT_BAL  SEX  EDUCATION  MARRIAGE  AGE  PAY_0  PAY_2  PAY_3  PAY_4  \\\n",
       "0   1      20000    2          2         1   24      2      2     -1     -1   \n",
       "1   2     120000    2          2         2   26     -1      2      0      0   \n",
       "2   3      90000    2          2         2   34      0      0      0      0   \n",
       "3   4      50000    2          2         1   37      0      0      0      0   \n",
       "4   5      50000    1          2         1   57     -1      0     -1      0   \n",
       "\n",
       "     ...      BILL_AMT4  BILL_AMT5  BILL_AMT6  PAY_AMT1  PAY_AMT2  PAY_AMT3  \\\n",
       "0    ...              0          0          0         0       689         0   \n",
       "1    ...           3272       3455       3261         0      1000      1000   \n",
       "2    ...          14331      14948      15549      1518      1500      1000   \n",
       "3    ...          28314      28959      29547      2000      2019      1200   \n",
       "4    ...          20940      19146      19131      2000     36681     10000   \n",
       "\n",
       "   PAY_AMT4  PAY_AMT5  PAY_AMT6  defaulted  \n",
       "0         0         0         0          1  \n",
       "1      1000         0      2000          1  \n",
       "2      1000      1000      5000          0  \n",
       "3      1100      1069      1000          0  \n",
       "4      9000       689       679          0  \n",
       "\n",
       "[5 rows x 25 columns]"
      ]
     },
     "execution_count": 2,
     "metadata": {},
     "output_type": "execute_result"
    }
   ],
   "source": [
    "# Reading the csv file and putting it into 'df' object.\n",
    "df = pd.read_csv('C:/Users/nidhi/Downloads/credit-card-default (1).csv')\n",
    "df.head()"
   ]
  },
  {
   "cell_type": "code",
   "execution_count": 3,
   "metadata": {
    "scrolled": true
   },
   "outputs": [
    {
     "name": "stdout",
     "output_type": "stream",
     "text": [
      "<class 'pandas.core.frame.DataFrame'>\n",
      "RangeIndex: 30000 entries, 0 to 29999\n",
      "Data columns (total 25 columns):\n",
      "ID           30000 non-null int64\n",
      "LIMIT_BAL    30000 non-null int64\n",
      "SEX          30000 non-null int64\n",
      "EDUCATION    30000 non-null int64\n",
      "MARRIAGE     30000 non-null int64\n",
      "AGE          30000 non-null int64\n",
      "PAY_0        30000 non-null int64\n",
      "PAY_2        30000 non-null int64\n",
      "PAY_3        30000 non-null int64\n",
      "PAY_4        30000 non-null int64\n",
      "PAY_5        30000 non-null int64\n",
      "PAY_6        30000 non-null int64\n",
      "BILL_AMT1    30000 non-null int64\n",
      "BILL_AMT2    30000 non-null int64\n",
      "BILL_AMT3    30000 non-null int64\n",
      "BILL_AMT4    30000 non-null int64\n",
      "BILL_AMT5    30000 non-null int64\n",
      "BILL_AMT6    30000 non-null int64\n",
      "PAY_AMT1     30000 non-null int64\n",
      "PAY_AMT2     30000 non-null int64\n",
      "PAY_AMT3     30000 non-null int64\n",
      "PAY_AMT4     30000 non-null int64\n",
      "PAY_AMT5     30000 non-null int64\n",
      "PAY_AMT6     30000 non-null int64\n",
      "defaulted    30000 non-null int64\n",
      "dtypes: int64(25)\n",
      "memory usage: 5.7 MB\n"
     ]
    }
   ],
   "source": [
    "# Let's understand the type of columns\n",
    "df.info()"
   ]
  },
  {
   "cell_type": "markdown",
   "metadata": {},
   "source": [
    "In this case, we know that there are no major data quality issues, so we'll go ahead and build the model."
   ]
  },
  {
   "cell_type": "markdown",
   "metadata": {},
   "source": [
    "<hr>"
   ]
  },
  {
   "cell_type": "markdown",
   "metadata": {},
   "source": [
    "### Data Preparation and Model Building"
   ]
  },
  {
   "cell_type": "code",
   "execution_count": 4,
   "metadata": {},
   "outputs": [],
   "source": [
    "# Importing test_train_split from sklearn library\n",
    "from sklearn.model_selection import train_test_split"
   ]
  },
  {
   "cell_type": "code",
   "execution_count": 5,
   "metadata": {},
   "outputs": [],
   "source": [
    "# Putting feature variable to X\n",
    "X = df.drop('defaulted',axis=1)\n",
    "\n",
    "# Putting response variable to y\n",
    "y = df['defaulted']\n",
    "\n",
    "# Splitting the data into train and test\n",
    "X_train, X_test, y_train, y_test = train_test_split(X, y, test_size=0.30, random_state=101)"
   ]
  },
  {
   "cell_type": "markdown",
   "metadata": {},
   "source": [
    "\n",
    "\n",
    "#### Default Hyperparameters\n",
    "Let's first fit a random forest model with default hyperparameters."
   ]
  },
  {
   "cell_type": "code",
   "execution_count": 6,
   "metadata": {},
   "outputs": [
    {
     "name": "stderr",
     "output_type": "stream",
     "text": [
      "C:\\Users\\nidhi\\Anaconda3\\lib\\site-packages\\sklearn\\ensemble\\weight_boosting.py:29: DeprecationWarning: numpy.core.umath_tests is an internal NumPy module and should not be imported. It will be removed in a future NumPy release.\n",
      "  from numpy.core.umath_tests import inner1d\n"
     ]
    }
   ],
   "source": [
    "# Importing random forest classifier from sklearn library\n",
    "from sklearn.ensemble import RandomForestClassifier\n",
    "\n",
    "# Running the random forest with default parameters.\n",
    "rfc = RandomForestClassifier()"
   ]
  },
  {
   "cell_type": "code",
   "execution_count": 7,
   "metadata": {},
   "outputs": [
    {
     "data": {
      "text/plain": [
       "RandomForestClassifier(bootstrap=True, class_weight=None, criterion='gini',\n",
       "            max_depth=None, max_features='auto', max_leaf_nodes=None,\n",
       "            min_impurity_decrease=0.0, min_impurity_split=None,\n",
       "            min_samples_leaf=1, min_samples_split=2,\n",
       "            min_weight_fraction_leaf=0.0, n_estimators=10, n_jobs=1,\n",
       "            oob_score=False, random_state=None, verbose=0,\n",
       "            warm_start=False)"
      ]
     },
     "execution_count": 7,
     "metadata": {},
     "output_type": "execute_result"
    }
   ],
   "source": [
    "# fit\n",
    "rfc.fit(X_train,y_train)"
   ]
  },
  {
   "cell_type": "code",
   "execution_count": 8,
   "metadata": {},
   "outputs": [],
   "source": [
    "# Making predictions\n",
    "predictions = rfc.predict(X_test)"
   ]
  },
  {
   "cell_type": "code",
   "execution_count": 9,
   "metadata": {},
   "outputs": [],
   "source": [
    "# Importing classification report and confusion matrix from sklearn metrics\n",
    "from sklearn.metrics import classification_report,confusion_matrix, accuracy_score"
   ]
  },
  {
   "cell_type": "code",
   "execution_count": 10,
   "metadata": {},
   "outputs": [
    {
     "name": "stdout",
     "output_type": "stream",
     "text": [
      "             precision    recall  f1-score   support\n",
      "\n",
      "          0       0.84      0.95      0.89      7058\n",
      "          1       0.63      0.33      0.43      1942\n",
      "\n",
      "avg / total       0.79      0.81      0.79      9000\n",
      "\n"
     ]
    }
   ],
   "source": [
    "# Let's check the report of our default model\n",
    "print(classification_report(y_test,predictions))"
   ]
  },
  {
   "cell_type": "code",
   "execution_count": 11,
   "metadata": {},
   "outputs": [
    {
     "name": "stdout",
     "output_type": "stream",
     "text": [
      "[[6678  380]\n",
      " [1301  641]]\n"
     ]
    }
   ],
   "source": [
    "# Printing confusion matrix\n",
    "print(confusion_matrix(y_test,predictions))"
   ]
  },
  {
   "cell_type": "code",
   "execution_count": 12,
   "metadata": {},
   "outputs": [
    {
     "name": "stdout",
     "output_type": "stream",
     "text": [
      "0.8132222222222222\n"
     ]
    }
   ],
   "source": [
    "print(accuracy_score(y_test,predictions))"
   ]
  },
  {
   "cell_type": "markdown",
   "metadata": {},
   "source": [
    "So far so good, let's now look at the list of hyperparameters which we can tune to improve model performance."
   ]
  },
  {
   "cell_type": "markdown",
   "metadata": {
    "collapsed": true
   },
   "source": [
    "<hr>"
   ]
  },
  {
   "cell_type": "markdown",
   "metadata": {},
   "source": [
    "### Hyperparameter Tuning"
   ]
  },
  {
   "cell_type": "markdown",
   "metadata": {},
   "source": [
    "The following hyperparameters are present in a random forest classifier. Note that most of these hypereparameters are actually of the decision trees that are in the forest.\n",
    "\n",
    "\n",
    "- **n_estimators**: integer, optional (default=10): The number of trees in the forest.\n",
    "- **criterion**: string, optional (default=”gini”)The function to measure the quality of a split. Supported criteria are “gini” for the Gini impurity and “entropy” for the information gain. Note: this parameter is tree-specific.\n",
    "- **max_features** : int, float, string or None, optional (default=”auto”)The number of features to consider when looking for the best split:\n",
    "    - If int, then consider max_features features at each split.\n",
    "    - If float, then max_features is a percentage and int(max_features * n_features) features are considered at each split.\n",
    "    - If “auto”, then max_features=sqrt(n_features).\n",
    "    - If “sqrt”, then max_features=sqrt(n_features) (same as “auto”).\n",
    "    - If “log2”, then max_features=log2(n_features).\n",
    "    - If None, then max_features=n_features.\n",
    "    - Note: the search for a split does not stop until at least one valid partition of the node samples is found, even if it requires to effectively inspect more than max_features features.\n",
    "- **max_depth** : integer or None, optional (default=None)The maximum depth of the tree. If None, then nodes are expanded until all leaves are pure or until all leaves contain less than min_samples_split samples.\n",
    "- **min_samples_split** : int, float, optional (default=2)The minimum number of samples required to split an internal node:**\n",
    "    - **If int, then consider min_samples_split as the minimum number.\n",
    "    - **If float, then min_samples_split is a percentage and ceil(min_samples_split, n_samples) are the minimum number of samples for each split.\n",
    "- **min_samples_leaf** : int, float, optional (default=1)The minimum number of samples required to be at a leaf node:**\n",
    "    - **If int, then consider min_samples_leaf as the minimum number.**\n",
    "    - **If float, then min_samples_leaf is a percentage and ceil(min_samples_leaf * n_samples) are the minimum number of samples for each node.**\n",
    "- **min_weight_fraction_leaf** : float, optional (default=0.)The minimum weighted fraction of the sum total of weights (of all the input samples) required to be at a leaf node. Samples have equal weight when sample_weight is not provided.\n",
    "- **max_leaf_nodes** : int or None, optional (default=None)Grow trees with max_leaf_nodes in best-first fashion. Best nodes are defined as relative reduction in impurity. If None then unlimited number of leaf nodes.\n",
    "- **min_impurity_split** : float,Threshold for early stopping in tree growth. A node will split if its impurity is above the threshold, otherwise it is a leaf.\n"
   ]
  },
  {
   "cell_type": "markdown",
   "metadata": {},
   "source": [
    "<hr>"
   ]
  },
  {
   "cell_type": "markdown",
   "metadata": {},
   "source": [
    "### Tuning max_depth"
   ]
  },
  {
   "cell_type": "markdown",
   "metadata": {},
   "source": [
    "Let's try to find the optimum values for ```max_depth``` and understand how the value of max_depth impacts the overall accuracy of the ensemble.\n"
   ]
  },
  {
   "cell_type": "code",
   "execution_count": 13,
   "metadata": {},
   "outputs": [
    {
     "data": {
      "text/plain": [
       "GridSearchCV(cv=5, error_score='raise',\n",
       "       estimator=RandomForestClassifier(bootstrap=True, class_weight=None, criterion='gini',\n",
       "            max_depth=None, max_features='auto', max_leaf_nodes=None,\n",
       "            min_impurity_decrease=0.0, min_impurity_split=None,\n",
       "            min_samples_leaf=1, min_samples_split=2,\n",
       "            min_weight_fraction_leaf=0.0, n_estimators=10, n_jobs=1,\n",
       "            oob_score=False, random_state=None, verbose=0,\n",
       "            warm_start=False),\n",
       "       fit_params=None, iid=True, n_jobs=1,\n",
       "       param_grid={'max_depth': range(2, 20, 5)}, pre_dispatch='2*n_jobs',\n",
       "       refit=True, return_train_score='warn', scoring='accuracy',\n",
       "       verbose=0)"
      ]
     },
     "execution_count": 13,
     "metadata": {},
     "output_type": "execute_result"
    }
   ],
   "source": [
    "# GridSearchCV to find optimal n_estimators\n",
    "from sklearn.model_selection import KFold\n",
    "from sklearn.model_selection import GridSearchCV\n",
    "\n",
    "\n",
    "# specify number of folds for k-fold CV\n",
    "n_folds = 5\n",
    "\n",
    "# parameters to build the model on\n",
    "parameters = {'max_depth': range(2, 20, 5)}\n",
    "\n",
    "# instantiate the model\n",
    "rf = RandomForestClassifier()\n",
    "\n",
    "\n",
    "# fit tree on training data\n",
    "rf = GridSearchCV(rf, parameters, \n",
    "                    cv=n_folds, \n",
    "                   scoring=\"accuracy\")\n",
    "rf.fit(X_train, y_train)"
   ]
  },
  {
   "cell_type": "code",
   "execution_count": 14,
   "metadata": {},
   "outputs": [
    {
     "data": {
      "text/html": [
       "<div>\n",
       "<style scoped>\n",
       "    .dataframe tbody tr th:only-of-type {\n",
       "        vertical-align: middle;\n",
       "    }\n",
       "\n",
       "    .dataframe tbody tr th {\n",
       "        vertical-align: top;\n",
       "    }\n",
       "\n",
       "    .dataframe thead th {\n",
       "        text-align: right;\n",
       "    }\n",
       "</style>\n",
       "<table border=\"1\" class=\"dataframe\">\n",
       "  <thead>\n",
       "    <tr style=\"text-align: right;\">\n",
       "      <th></th>\n",
       "      <th>mean_fit_time</th>\n",
       "      <th>std_fit_time</th>\n",
       "      <th>mean_score_time</th>\n",
       "      <th>std_score_time</th>\n",
       "      <th>param_max_depth</th>\n",
       "      <th>params</th>\n",
       "      <th>split0_test_score</th>\n",
       "      <th>split1_test_score</th>\n",
       "      <th>split2_test_score</th>\n",
       "      <th>split3_test_score</th>\n",
       "      <th>...</th>\n",
       "      <th>mean_test_score</th>\n",
       "      <th>std_test_score</th>\n",
       "      <th>rank_test_score</th>\n",
       "      <th>split0_train_score</th>\n",
       "      <th>split1_train_score</th>\n",
       "      <th>split2_train_score</th>\n",
       "      <th>split3_train_score</th>\n",
       "      <th>split4_train_score</th>\n",
       "      <th>mean_train_score</th>\n",
       "      <th>std_train_score</th>\n",
       "    </tr>\n",
       "  </thead>\n",
       "  <tbody>\n",
       "    <tr>\n",
       "      <th>0</th>\n",
       "      <td>0.069664</td>\n",
       "      <td>0.008912</td>\n",
       "      <td>0.003722</td>\n",
       "      <td>0.006059</td>\n",
       "      <td>2</td>\n",
       "      <td>{'max_depth': 2}</td>\n",
       "      <td>0.807189</td>\n",
       "      <td>0.812143</td>\n",
       "      <td>0.805238</td>\n",
       "      <td>0.790952</td>\n",
       "      <td>...</td>\n",
       "      <td>0.802095</td>\n",
       "      <td>0.007899</td>\n",
       "      <td>4</td>\n",
       "      <td>0.806060</td>\n",
       "      <td>0.805774</td>\n",
       "      <td>0.809583</td>\n",
       "      <td>0.796012</td>\n",
       "      <td>0.797810</td>\n",
       "      <td>0.803048</td>\n",
       "      <td>0.005218</td>\n",
       "    </tr>\n",
       "    <tr>\n",
       "      <th>1</th>\n",
       "      <td>0.168637</td>\n",
       "      <td>0.009560</td>\n",
       "      <td>0.006248</td>\n",
       "      <td>0.007653</td>\n",
       "      <td>7</td>\n",
       "      <td>{'max_depth': 7}</td>\n",
       "      <td>0.817424</td>\n",
       "      <td>0.812381</td>\n",
       "      <td>0.812857</td>\n",
       "      <td>0.804286</td>\n",
       "      <td>...</td>\n",
       "      <td>0.812333</td>\n",
       "      <td>0.004397</td>\n",
       "      <td>1</td>\n",
       "      <td>0.832728</td>\n",
       "      <td>0.827798</td>\n",
       "      <td>0.829702</td>\n",
       "      <td>0.826607</td>\n",
       "      <td>0.832391</td>\n",
       "      <td>0.829845</td>\n",
       "      <td>0.002429</td>\n",
       "    </tr>\n",
       "    <tr>\n",
       "      <th>2</th>\n",
       "      <td>0.258091</td>\n",
       "      <td>0.007307</td>\n",
       "      <td>0.005324</td>\n",
       "      <td>0.006682</td>\n",
       "      <td>12</td>\n",
       "      <td>{'max_depth': 12}</td>\n",
       "      <td>0.815282</td>\n",
       "      <td>0.806667</td>\n",
       "      <td>0.815476</td>\n",
       "      <td>0.805714</td>\n",
       "      <td>...</td>\n",
       "      <td>0.811286</td>\n",
       "      <td>0.004241</td>\n",
       "      <td>2</td>\n",
       "      <td>0.878445</td>\n",
       "      <td>0.878869</td>\n",
       "      <td>0.878214</td>\n",
       "      <td>0.878690</td>\n",
       "      <td>0.876436</td>\n",
       "      <td>0.878131</td>\n",
       "      <td>0.000876</td>\n",
       "    </tr>\n",
       "    <tr>\n",
       "      <th>3</th>\n",
       "      <td>0.325992</td>\n",
       "      <td>0.006906</td>\n",
       "      <td>0.003123</td>\n",
       "      <td>0.006245</td>\n",
       "      <td>17</td>\n",
       "      <td>{'max_depth': 17}</td>\n",
       "      <td>0.809331</td>\n",
       "      <td>0.805952</td>\n",
       "      <td>0.810714</td>\n",
       "      <td>0.801905</td>\n",
       "      <td>...</td>\n",
       "      <td>0.806000</td>\n",
       "      <td>0.003615</td>\n",
       "      <td>3</td>\n",
       "      <td>0.926008</td>\n",
       "      <td>0.929643</td>\n",
       "      <td>0.927262</td>\n",
       "      <td>0.929702</td>\n",
       "      <td>0.923516</td>\n",
       "      <td>0.927226</td>\n",
       "      <td>0.002333</td>\n",
       "    </tr>\n",
       "  </tbody>\n",
       "</table>\n",
       "<p>4 rows × 21 columns</p>\n",
       "</div>"
      ],
      "text/plain": [
       "   mean_fit_time  std_fit_time  mean_score_time  std_score_time  \\\n",
       "0       0.069664      0.008912         0.003722        0.006059   \n",
       "1       0.168637      0.009560         0.006248        0.007653   \n",
       "2       0.258091      0.007307         0.005324        0.006682   \n",
       "3       0.325992      0.006906         0.003123        0.006245   \n",
       "\n",
       "  param_max_depth             params  split0_test_score  split1_test_score  \\\n",
       "0               2   {'max_depth': 2}           0.807189           0.812143   \n",
       "1               7   {'max_depth': 7}           0.817424           0.812381   \n",
       "2              12  {'max_depth': 12}           0.815282           0.806667   \n",
       "3              17  {'max_depth': 17}           0.809331           0.805952   \n",
       "\n",
       "   split2_test_score  split3_test_score       ...         mean_test_score  \\\n",
       "0           0.805238           0.790952       ...                0.802095   \n",
       "1           0.812857           0.804286       ...                0.812333   \n",
       "2           0.815476           0.805714       ...                0.811286   \n",
       "3           0.810714           0.801905       ...                0.806000   \n",
       "\n",
       "   std_test_score  rank_test_score  split0_train_score  split1_train_score  \\\n",
       "0        0.007899                4            0.806060            0.805774   \n",
       "1        0.004397                1            0.832728            0.827798   \n",
       "2        0.004241                2            0.878445            0.878869   \n",
       "3        0.003615                3            0.926008            0.929643   \n",
       "\n",
       "   split2_train_score  split3_train_score  split4_train_score  \\\n",
       "0            0.809583            0.796012            0.797810   \n",
       "1            0.829702            0.826607            0.832391   \n",
       "2            0.878214            0.878690            0.876436   \n",
       "3            0.927262            0.929702            0.923516   \n",
       "\n",
       "   mean_train_score  std_train_score  \n",
       "0          0.803048         0.005218  \n",
       "1          0.829845         0.002429  \n",
       "2          0.878131         0.000876  \n",
       "3          0.927226         0.002333  \n",
       "\n",
       "[4 rows x 21 columns]"
      ]
     },
     "execution_count": 14,
     "metadata": {},
     "output_type": "execute_result"
    }
   ],
   "source": [
    "# scores of GridSearch CV\n",
    "scores = rf.cv_results_\n",
    "pd.DataFrame(scores).head()"
   ]
  },
  {
   "cell_type": "code",
   "execution_count": 15,
   "metadata": {},
   "outputs": [
    {
     "data": {
      "image/png": "[encoded data removed]",
      "text/plain": [
       "<Figure size 432x288 with 1 Axes>"
      ]
     },
     "metadata": {
      "needs_background": "light"
     },
     "output_type": "display_data"
    }
   ],
   "source": [
    "# plotting accuracies with max_depth\n",
    "plt.figure()\n",
    "plt.plot(scores[\"param_max_depth\"], \n",
    "         scores[\"mean_train_score\"], \n",
    "         label=\"training accuracy\")\n",
    "plt.plot(scores[\"param_max_depth\"], \n",
    "         scores[\"mean_test_score\"], \n",
    "         label=\"test accuracy\")\n",
    "plt.xlabel(\"max_depth\")\n",
    "plt.ylabel(\"Accuracy\")\n",
    "plt.legend()\n",
    "plt.show()\n"
   ]
  },
  {
   "cell_type": "markdown",
   "metadata": {},
   "source": [
    "You can see that as we increase the value of max_depth, both train and test scores increase till a point, but after that test score starts to decrease. The ensemble tries to overfit as we increase the max_depth.\n",
    "\n",
    "Thus, controlling the depth of the constituent trees will help reduce overfitting in the forest."
   ]
  },
  {
   "cell_type": "markdown",
   "metadata": {},
   "source": [
    "<hr>"
   ]
  },
  {
   "cell_type": "markdown",
   "metadata": {},
   "source": [
    "### Tuning n_estimators"
   ]
  },
  {
   "cell_type": "markdown",
   "metadata": {},
   "source": [
    "Let's try to find the optimum values for n_estimators and understand how the value of n_estimators impacts the overall accuracy. Notice that we'll specify an appropriately low value of max_depth, so that the trees do not overfit.\n",
    "<br>\n"
   ]
  },
  {
   "cell_type": "code",
   "execution_count": 16,
   "metadata": {
    "scrolled": true
   },
   "outputs": [
    {
     "data": {
      "text/plain": [
       "GridSearchCV(cv=5, error_score='raise',\n",
       "       estimator=RandomForestClassifier(bootstrap=True, class_weight=None, criterion='gini',\n",
       "            max_depth=4, max_features='auto', max_leaf_nodes=None,\n",
       "            min_impurity_decrease=0.0, min_impurity_split=None,\n",
       "            min_samples_leaf=1, min_samples_split=2,\n",
       "            min_weight_fraction_leaf=0.0, n_estimators=10, n_jobs=1,\n",
       "            oob_score=False, random_state=None, verbose=0,\n",
       "            warm_start=False),\n",
       "       fit_params=None, iid=True, n_jobs=1,\n",
       "       param_grid={'n_estimators': range(100, 1500, 400)},\n",
       "       pre_dispatch='2*n_jobs', refit=True, return_train_score='warn',\n",
       "       scoring='accuracy', verbose=0)"
      ]
     },
     "execution_count": 16,
     "metadata": {},
     "output_type": "execute_result"
    }
   ],
   "source": [
    "# GridSearchCV to find optimal n_estimators\n",
    "from sklearn.model_selection import KFold\n",
    "from sklearn.model_selection import GridSearchCV\n",
    "\n",
    "\n",
    "# specify number of folds for k-fold CV\n",
    "n_folds = 5\n",
    "\n",
    "# parameters to build the model on\n",
    "parameters = {'n_estimators': range(100, 1500, 400)}\n",
    "\n",
    "# instantiate the model (note we are specifying a max_depth)\n",
    "rf = RandomForestClassifier(max_depth=4)\n",
    "\n",
    "\n",
    "# fit tree on training data\n",
    "rf = GridSearchCV(rf, parameters, \n",
    "                    cv=n_folds, \n",
    "                   scoring=\"accuracy\")\n",
    "rf.fit(X_train, y_train)"
   ]
  },
  {
   "cell_type": "code",
   "execution_count": 17,
   "metadata": {},
   "outputs": [
    {
     "data": {
      "text/html": [
       "<div>\n",
       "<style scoped>\n",
       "    .dataframe tbody tr th:only-of-type {\n",
       "        vertical-align: middle;\n",
       "    }\n",
       "\n",
       "    .dataframe tbody tr th {\n",
       "        vertical-align: top;\n",
       "    }\n",
       "\n",
       "    .dataframe thead th {\n",
       "        text-align: right;\n",
       "    }\n",
       "</style>\n",
       "<table border=\"1\" class=\"dataframe\">\n",
       "  <thead>\n",
       "    <tr style=\"text-align: right;\">\n",
       "      <th></th>\n",
       "      <th>mean_fit_time</th>\n",
       "      <th>std_fit_time</th>\n",
       "      <th>mean_score_time</th>\n",
       "      <th>std_score_time</th>\n",
       "      <th>param_n_estimators</th>\n",
       "      <th>params</th>\n",
       "      <th>split0_test_score</th>\n",
       "      <th>split1_test_score</th>\n",
       "      <th>split2_test_score</th>\n",
       "      <th>split3_test_score</th>\n",
       "      <th>...</th>\n",
       "      <th>mean_test_score</th>\n",
       "      <th>std_test_score</th>\n",
       "      <th>rank_test_score</th>\n",
       "      <th>split0_train_score</th>\n",
       "      <th>split1_train_score</th>\n",
       "      <th>split2_train_score</th>\n",
       "      <th>split3_train_score</th>\n",
       "      <th>split4_train_score</th>\n",
       "      <th>mean_train_score</th>\n",
       "      <th>std_train_score</th>\n",
       "    </tr>\n",
       "  </thead>\n",
       "  <tbody>\n",
       "    <tr>\n",
       "      <th>0</th>\n",
       "      <td>1.083454</td>\n",
       "      <td>0.014570</td>\n",
       "      <td>0.028128</td>\n",
       "      <td>0.007846</td>\n",
       "      <td>100</td>\n",
       "      <td>{'n_estimators': 100}</td>\n",
       "      <td>0.812902</td>\n",
       "      <td>0.814286</td>\n",
       "      <td>0.807857</td>\n",
       "      <td>0.804048</td>\n",
       "      <td>...</td>\n",
       "      <td>0.809381</td>\n",
       "      <td>0.003733</td>\n",
       "      <td>4</td>\n",
       "      <td>0.811596</td>\n",
       "      <td>0.811726</td>\n",
       "      <td>0.810536</td>\n",
       "      <td>0.811726</td>\n",
       "      <td>0.812392</td>\n",
       "      <td>0.811595</td>\n",
       "      <td>0.000599</td>\n",
       "    </tr>\n",
       "    <tr>\n",
       "      <th>1</th>\n",
       "      <td>5.354279</td>\n",
       "      <td>0.134172</td>\n",
       "      <td>0.142995</td>\n",
       "      <td>0.007192</td>\n",
       "      <td>500</td>\n",
       "      <td>{'n_estimators': 500}</td>\n",
       "      <td>0.811235</td>\n",
       "      <td>0.814286</td>\n",
       "      <td>0.811429</td>\n",
       "      <td>0.805238</td>\n",
       "      <td>...</td>\n",
       "      <td>0.810000</td>\n",
       "      <td>0.003143</td>\n",
       "      <td>1</td>\n",
       "      <td>0.811120</td>\n",
       "      <td>0.810655</td>\n",
       "      <td>0.811905</td>\n",
       "      <td>0.812679</td>\n",
       "      <td>0.813523</td>\n",
       "      <td>0.811976</td>\n",
       "      <td>0.001036</td>\n",
       "    </tr>\n",
       "    <tr>\n",
       "      <th>2</th>\n",
       "      <td>9.559058</td>\n",
       "      <td>0.129439</td>\n",
       "      <td>0.243933</td>\n",
       "      <td>0.005192</td>\n",
       "      <td>900</td>\n",
       "      <td>{'n_estimators': 900}</td>\n",
       "      <td>0.810759</td>\n",
       "      <td>0.813810</td>\n",
       "      <td>0.810952</td>\n",
       "      <td>0.805476</td>\n",
       "      <td>...</td>\n",
       "      <td>0.809667</td>\n",
       "      <td>0.002933</td>\n",
       "      <td>3</td>\n",
       "      <td>0.811060</td>\n",
       "      <td>0.810595</td>\n",
       "      <td>0.811786</td>\n",
       "      <td>0.813214</td>\n",
       "      <td>0.812987</td>\n",
       "      <td>0.811929</td>\n",
       "      <td>0.001032</td>\n",
       "    </tr>\n",
       "    <tr>\n",
       "      <th>3</th>\n",
       "      <td>13.691267</td>\n",
       "      <td>0.090339</td>\n",
       "      <td>0.358368</td>\n",
       "      <td>0.011385</td>\n",
       "      <td>1300</td>\n",
       "      <td>{'n_estimators': 1300}</td>\n",
       "      <td>0.811473</td>\n",
       "      <td>0.813571</td>\n",
       "      <td>0.811190</td>\n",
       "      <td>0.805714</td>\n",
       "      <td>...</td>\n",
       "      <td>0.809810</td>\n",
       "      <td>0.002931</td>\n",
       "      <td>2</td>\n",
       "      <td>0.811358</td>\n",
       "      <td>0.810417</td>\n",
       "      <td>0.811369</td>\n",
       "      <td>0.812381</td>\n",
       "      <td>0.812511</td>\n",
       "      <td>0.811607</td>\n",
       "      <td>0.000768</td>\n",
       "    </tr>\n",
       "  </tbody>\n",
       "</table>\n",
       "<p>4 rows × 21 columns</p>\n",
       "</div>"
      ],
      "text/plain": [
       "   mean_fit_time  std_fit_time  mean_score_time  std_score_time  \\\n",
       "0       1.083454      0.014570         0.028128        0.007846   \n",
       "1       5.354279      0.134172         0.142995        0.007192   \n",
       "2       9.559058      0.129439         0.243933        0.005192   \n",
       "3      13.691267      0.090339         0.358368        0.011385   \n",
       "\n",
       "  param_n_estimators                  params  split0_test_score  \\\n",
       "0                100   {'n_estimators': 100}           0.812902   \n",
       "1                500   {'n_estimators': 500}           0.811235   \n",
       "2                900   {'n_estimators': 900}           0.810759   \n",
       "3               1300  {'n_estimators': 1300}           0.811473   \n",
       "\n",
       "   split1_test_score  split2_test_score  split3_test_score       ...         \\\n",
       "0           0.814286           0.807857           0.804048       ...          \n",
       "1           0.814286           0.811429           0.805238       ...          \n",
       "2           0.813810           0.810952           0.805476       ...          \n",
       "3           0.813571           0.811190           0.805714       ...          \n",
       "\n",
       "   mean_test_score  std_test_score  rank_test_score  split0_train_score  \\\n",
       "0         0.809381        0.003733                4            0.811596   \n",
       "1         0.810000        0.003143                1            0.811120   \n",
       "2         0.809667        0.002933                3            0.811060   \n",
       "3         0.809810        0.002931                2            0.811358   \n",
       "\n",
       "   split1_train_score  split2_train_score  split3_train_score  \\\n",
       "0            0.811726            0.810536            0.811726   \n",
       "1            0.810655            0.811905            0.812679   \n",
       "2            0.810595            0.811786            0.813214   \n",
       "3            0.810417            0.811369            0.812381   \n",
       "\n",
       "   split4_train_score  mean_train_score  std_train_score  \n",
       "0            0.812392          0.811595         0.000599  \n",
       "1            0.813523          0.811976         0.001036  \n",
       "2            0.812987          0.811929         0.001032  \n",
       "3            0.812511          0.811607         0.000768  \n",
       "\n",
       "[4 rows x 21 columns]"
      ]
     },
     "execution_count": 17,
     "metadata": {},
     "output_type": "execute_result"
    }
   ],
   "source": [
    "# scores of GridSearch CV\n",
    "scores = rf.cv_results_\n",
    "pd.DataFrame(scores).head()"
   ]
  },
  {
   "cell_type": "code",
   "execution_count": 18,
   "metadata": {},
   "outputs": [
    {
     "data": {
      "image/png": "[encoded data removed]",
      "text/plain": [
       "<Figure size 432x288 with 1 Axes>"
      ]
     },
     "metadata": {
      "needs_background": "light"
     },
     "output_type": "display_data"
    }
   ],
   "source": [
    "# plotting accuracies with n_estimators\n",
    "plt.figure()\n",
    "plt.plot(scores[\"param_n_estimators\"], \n",
    "         scores[\"mean_train_score\"], \n",
    "         label=\"training accuracy\")\n",
    "plt.plot(scores[\"param_n_estimators\"], \n",
    "         scores[\"mean_test_score\"], \n",
    "         label=\"test accuracy\")\n",
    "plt.xlabel(\"n_estimators\")\n",
    "plt.ylabel(\"Accuracy\")\n",
    "plt.legend()\n",
    "plt.show()\n"
   ]
  },
  {
   "cell_type": "markdown",
   "metadata": {},
   "source": [
    "<hr>"
   ]
  },
  {
   "cell_type": "markdown",
   "metadata": {},
   "source": [
    "### Tuning max_features\n",
    "\n",
    "Let's see how the model performance varies with ```max_features```, which is the maximum numbre of features considered for splitting at a node."
   ]
  },
  {
   "cell_type": "code",
   "execution_count": 19,
   "metadata": {},
   "outputs": [
    {
     "data": {
      "text/plain": [
       "GridSearchCV(cv=5, error_score='raise',\n",
       "       estimator=RandomForestClassifier(bootstrap=True, class_weight=None, criterion='gini',\n",
       "            max_depth=4, max_features='auto', max_leaf_nodes=None,\n",
       "            min_impurity_decrease=0.0, min_impurity_split=None,\n",
       "            min_samples_leaf=1, min_samples_split=2,\n",
       "            min_weight_fraction_leaf=0.0, n_estimators=10, n_jobs=1,\n",
       "            oob_score=False, random_state=None, verbose=0,\n",
       "            warm_start=False),\n",
       "       fit_params=None, iid=True, n_jobs=1,\n",
       "       param_grid={'max_features': [4, 8, 14, 20, 24]},\n",
       "       pre_dispatch='2*n_jobs', refit=True, return_train_score='warn',\n",
       "       scoring='accuracy', verbose=0)"
      ]
     },
     "execution_count": 19,
     "metadata": {},
     "output_type": "execute_result"
    }
   ],
   "source": [
    "# GridSearchCV to find optimal max_features\n",
    "from sklearn.model_selection import KFold\n",
    "from sklearn.model_selection import GridSearchCV\n",
    "\n",
    "\n",
    "# specify number of folds for k-fold CV\n",
    "n_folds = 5\n",
    "\n",
    "# parameters to build the model on\n",
    "parameters = {'max_features': [4, 8, 14, 20, 24]}\n",
    "\n",
    "# instantiate the model\n",
    "rf = RandomForestClassifier(max_depth=4)\n",
    "\n",
    "\n",
    "# fit tree on training data\n",
    "rf = GridSearchCV(rf, parameters, \n",
    "                    cv=n_folds, \n",
    "                   scoring=\"accuracy\")\n",
    "rf.fit(X_train, y_train)"
   ]
  },
  {
   "cell_type": "code",
   "execution_count": 20,
   "metadata": {},
   "outputs": [
    {
     "data": {
      "text/html": [
       "<div>\n",
       "<style scoped>\n",
       "    .dataframe tbody tr th:only-of-type {\n",
       "        vertical-align: middle;\n",
       "    }\n",
       "\n",
       "    .dataframe tbody tr th {\n",
       "        vertical-align: top;\n",
       "    }\n",
       "\n",
       "    .dataframe thead th {\n",
       "        text-align: right;\n",
       "    }\n",
       "</style>\n",
       "<table border=\"1\" class=\"dataframe\">\n",
       "  <thead>\n",
       "    <tr style=\"text-align: right;\">\n",
       "      <th></th>\n",
       "      <th>mean_fit_time</th>\n",
       "      <th>std_fit_time</th>\n",
       "      <th>mean_score_time</th>\n",
       "      <th>std_score_time</th>\n",
       "      <th>param_max_features</th>\n",
       "      <th>params</th>\n",
       "      <th>split0_test_score</th>\n",
       "      <th>split1_test_score</th>\n",
       "      <th>split2_test_score</th>\n",
       "      <th>split3_test_score</th>\n",
       "      <th>...</th>\n",
       "      <th>mean_test_score</th>\n",
       "      <th>std_test_score</th>\n",
       "      <th>rank_test_score</th>\n",
       "      <th>split0_train_score</th>\n",
       "      <th>split1_train_score</th>\n",
       "      <th>split2_train_score</th>\n",
       "      <th>split3_train_score</th>\n",
       "      <th>split4_train_score</th>\n",
       "      <th>mean_train_score</th>\n",
       "      <th>std_train_score</th>\n",
       "    </tr>\n",
       "  </thead>\n",
       "  <tbody>\n",
       "    <tr>\n",
       "      <th>0</th>\n",
       "      <td>0.112021</td>\n",
       "      <td>0.004010</td>\n",
       "      <td>0.000000</td>\n",
       "      <td>0.000000</td>\n",
       "      <td>4</td>\n",
       "      <td>{'max_features': 4}</td>\n",
       "      <td>0.813854</td>\n",
       "      <td>0.810476</td>\n",
       "      <td>0.812381</td>\n",
       "      <td>0.808810</td>\n",
       "      <td>...</td>\n",
       "      <td>0.810667</td>\n",
       "      <td>0.002224</td>\n",
       "      <td>5</td>\n",
       "      <td>0.816001</td>\n",
       "      <td>0.811250</td>\n",
       "      <td>0.812560</td>\n",
       "      <td>0.814167</td>\n",
       "      <td>0.812690</td>\n",
       "      <td>0.813333</td>\n",
       "      <td>0.001623</td>\n",
       "    </tr>\n",
       "    <tr>\n",
       "      <th>1</th>\n",
       "      <td>0.194558</td>\n",
       "      <td>0.012657</td>\n",
       "      <td>0.003520</td>\n",
       "      <td>0.006081</td>\n",
       "      <td>8</td>\n",
       "      <td>{'max_features': 8}</td>\n",
       "      <td>0.818139</td>\n",
       "      <td>0.815714</td>\n",
       "      <td>0.816190</td>\n",
       "      <td>0.817143</td>\n",
       "      <td>...</td>\n",
       "      <td>0.817238</td>\n",
       "      <td>0.001213</td>\n",
       "      <td>4</td>\n",
       "      <td>0.822192</td>\n",
       "      <td>0.813571</td>\n",
       "      <td>0.819286</td>\n",
       "      <td>0.821012</td>\n",
       "      <td>0.821082</td>\n",
       "      <td>0.819429</td>\n",
       "      <td>0.003073</td>\n",
       "    </tr>\n",
       "    <tr>\n",
       "      <th>2</th>\n",
       "      <td>0.315376</td>\n",
       "      <td>0.004683</td>\n",
       "      <td>0.003124</td>\n",
       "      <td>0.006249</td>\n",
       "      <td>14</td>\n",
       "      <td>{'max_features': 14}</td>\n",
       "      <td>0.818615</td>\n",
       "      <td>0.820952</td>\n",
       "      <td>0.820000</td>\n",
       "      <td>0.815238</td>\n",
       "      <td>...</td>\n",
       "      <td>0.818571</td>\n",
       "      <td>0.001954</td>\n",
       "      <td>2</td>\n",
       "      <td>0.821597</td>\n",
       "      <td>0.821190</td>\n",
       "      <td>0.821310</td>\n",
       "      <td>0.822321</td>\n",
       "      <td>0.821380</td>\n",
       "      <td>0.821560</td>\n",
       "      <td>0.000403</td>\n",
       "    </tr>\n",
       "    <tr>\n",
       "      <th>3</th>\n",
       "      <td>0.435308</td>\n",
       "      <td>0.010278</td>\n",
       "      <td>0.003920</td>\n",
       "      <td>0.006050</td>\n",
       "      <td>20</td>\n",
       "      <td>{'max_features': 20}</td>\n",
       "      <td>0.816948</td>\n",
       "      <td>0.821905</td>\n",
       "      <td>0.820476</td>\n",
       "      <td>0.817857</td>\n",
       "      <td>...</td>\n",
       "      <td>0.819190</td>\n",
       "      <td>0.001789</td>\n",
       "      <td>1</td>\n",
       "      <td>0.822251</td>\n",
       "      <td>0.821250</td>\n",
       "      <td>0.822024</td>\n",
       "      <td>0.823155</td>\n",
       "      <td>0.822451</td>\n",
       "      <td>0.822226</td>\n",
       "      <td>0.000618</td>\n",
       "    </tr>\n",
       "    <tr>\n",
       "      <th>4</th>\n",
       "      <td>0.516198</td>\n",
       "      <td>0.008804</td>\n",
       "      <td>0.007043</td>\n",
       "      <td>0.007149</td>\n",
       "      <td>24</td>\n",
       "      <td>{'max_features': 24}</td>\n",
       "      <td>0.817186</td>\n",
       "      <td>0.821905</td>\n",
       "      <td>0.819762</td>\n",
       "      <td>0.814286</td>\n",
       "      <td>...</td>\n",
       "      <td>0.818286</td>\n",
       "      <td>0.002549</td>\n",
       "      <td>3</td>\n",
       "      <td>0.822489</td>\n",
       "      <td>0.820714</td>\n",
       "      <td>0.822083</td>\n",
       "      <td>0.823512</td>\n",
       "      <td>0.822392</td>\n",
       "      <td>0.822238</td>\n",
       "      <td>0.000901</td>\n",
       "    </tr>\n",
       "  </tbody>\n",
       "</table>\n",
       "<p>5 rows × 21 columns</p>\n",
       "</div>"
      ],
      "text/plain": [
       "   mean_fit_time  std_fit_time  mean_score_time  std_score_time  \\\n",
       "0       0.112021      0.004010         0.000000        0.000000   \n",
       "1       0.194558      0.012657         0.003520        0.006081   \n",
       "2       0.315376      0.004683         0.003124        0.006249   \n",
       "3       0.435308      0.010278         0.003920        0.006050   \n",
       "4       0.516198      0.008804         0.007043        0.007149   \n",
       "\n",
       "  param_max_features                params  split0_test_score  \\\n",
       "0                  4   {'max_features': 4}           0.813854   \n",
       "1                  8   {'max_features': 8}           0.818139   \n",
       "2                 14  {'max_features': 14}           0.818615   \n",
       "3                 20  {'max_features': 20}           0.816948   \n",
       "4                 24  {'max_features': 24}           0.817186   \n",
       "\n",
       "   split1_test_score  split2_test_score  split3_test_score       ...         \\\n",
       "0           0.810476           0.812381           0.808810       ...          \n",
       "1           0.815714           0.816190           0.817143       ...          \n",
       "2           0.820952           0.820000           0.815238       ...          \n",
       "3           0.821905           0.820476           0.817857       ...          \n",
       "4           0.821905           0.819762           0.814286       ...          \n",
       "\n",
       "   mean_test_score  std_test_score  rank_test_score  split0_train_score  \\\n",
       "0         0.810667        0.002224                5            0.816001   \n",
       "1         0.817238        0.001213                4            0.822192   \n",
       "2         0.818571        0.001954                2            0.821597   \n",
       "3         0.819190        0.001789                1            0.822251   \n",
       "4         0.818286        0.002549                3            0.822489   \n",
       "\n",
       "   split1_train_score  split2_train_score  split3_train_score  \\\n",
       "0            0.811250            0.812560            0.814167   \n",
       "1            0.813571            0.819286            0.821012   \n",
       "2            0.821190            0.821310            0.822321   \n",
       "3            0.821250            0.822024            0.823155   \n",
       "4            0.820714            0.822083            0.823512   \n",
       "\n",
       "   split4_train_score  mean_train_score  std_train_score  \n",
       "0            0.812690          0.813333         0.001623  \n",
       "1            0.821082          0.819429         0.003073  \n",
       "2            0.821380          0.821560         0.000403  \n",
       "3            0.822451          0.822226         0.000618  \n",
       "4            0.822392          0.822238         0.000901  \n",
       "\n",
       "[5 rows x 21 columns]"
      ]
     },
     "execution_count": 20,
     "metadata": {},
     "output_type": "execute_result"
    }
   ],
   "source": [
    "# scores of GridSearch CV\n",
    "scores = rf.cv_results_\n",
    "pd.DataFrame(scores).head()"
   ]
  },
  {
   "cell_type": "code",
   "execution_count": 21,
   "metadata": {},
   "outputs": [
    {
     "data": {
      "image/png": "[encoded data removed]",
      "text/plain": [
       "<Figure size 432x288 with 1 Axes>"
      ]
     },
     "metadata": {
      "needs_background": "light"
     },
     "output_type": "display_data"
    }
   ],
   "source": [
    "# plotting accuracies with max_features\n",
    "plt.figure()\n",
    "plt.plot(scores[\"param_max_features\"], \n",
    "         scores[\"mean_train_score\"], \n",
    "         label=\"training accuracy\")\n",
    "plt.plot(scores[\"param_max_features\"], \n",
    "         scores[\"mean_test_score\"], \n",
    "         label=\"test accuracy\")\n",
    "plt.xlabel(\"max_features\")\n",
    "plt.ylabel(\"Accuracy\")\n",
    "plt.legend()\n",
    "plt.show()\n"
   ]
  },
  {
   "cell_type": "markdown",
   "metadata": {},
   "source": [
    "Apparently, the training and test scores *both* seem to increase as we increase max_features, and the model doesn't seem to overfit more with increasing max_features. Think about why that might be the case."
   ]
  },
  {
   "cell_type": "markdown",
   "metadata": {},
   "source": [
    "### Tuning min_samples_leaf"
   ]
  },
  {
   "cell_type": "markdown",
   "metadata": {},
   "source": [
    "The hyperparameter **min_samples_leaf** is the minimum number of samples required to be at a leaf node:\n",
    "- If int, then consider min_samples_leaf as the minimum number.\n",
    "- If float, then min_samples_leaf is a percentage and ceil(min_samples_leaf * n_samples) are the minimum number of samples for each node."
   ]
  },
  {
   "cell_type": "markdown",
   "metadata": {},
   "source": [
    "Let's now check the optimum value for min samples leaf in our case."
   ]
  },
  {
   "cell_type": "code",
   "execution_count": 22,
   "metadata": {},
   "outputs": [
    {
     "data": {
      "text/plain": [
       "GridSearchCV(cv=5, error_score='raise',\n",
       "       estimator=RandomForestClassifier(bootstrap=True, class_weight=None, criterion='gini',\n",
       "            max_depth=None, max_features='auto', max_leaf_nodes=None,\n",
       "            min_impurity_decrease=0.0, min_impurity_split=None,\n",
       "            min_samples_leaf=1, min_samples_split=2,\n",
       "            min_weight_fraction_leaf=0.0, n_estimators=10, n_jobs=1,\n",
       "            oob_score=False, random_state=None, verbose=0,\n",
       "            warm_start=False),\n",
       "       fit_params=None, iid=True, n_jobs=1,\n",
       "       param_grid={'min_samples_leaf': range(100, 400, 50)},\n",
       "       pre_dispatch='2*n_jobs', refit=True, return_train_score='warn',\n",
       "       scoring='accuracy', verbose=0)"
      ]
     },
     "execution_count": 22,
     "metadata": {},
     "output_type": "execute_result"
    }
   ],
   "source": [
    "# GridSearchCV to find optimal min_samples_leaf\n",
    "from sklearn.model_selection import KFold\n",
    "from sklearn.model_selection import GridSearchCV\n",
    "\n",
    "\n",
    "# specify number of folds for k-fold CV\n",
    "n_folds = 5\n",
    "\n",
    "# parameters to build the model on\n",
    "parameters = {'min_samples_leaf': range(100, 400, 50)}\n",
    "\n",
    "# instantiate the model\n",
    "rf = RandomForestClassifier()\n",
    "\n",
    "\n",
    "# fit tree on training data\n",
    "rf = GridSearchCV(rf, parameters, \n",
    "                    cv=n_folds, \n",
    "                   scoring=\"accuracy\")\n",
    "rf.fit(X_train, y_train)"
   ]
  },
  {
   "cell_type": "code",
   "execution_count": 23,
   "metadata": {},
   "outputs": [
    {
     "data": {
      "text/html": [
       "<div>\n",
       "<style scoped>\n",
       "    .dataframe tbody tr th:only-of-type {\n",
       "        vertical-align: middle;\n",
       "    }\n",
       "\n",
       "    .dataframe tbody tr th {\n",
       "        vertical-align: top;\n",
       "    }\n",
       "\n",
       "    .dataframe thead th {\n",
       "        text-align: right;\n",
       "    }\n",
       "</style>\n",
       "<table border=\"1\" class=\"dataframe\">\n",
       "  <thead>\n",
       "    <tr style=\"text-align: right;\">\n",
       "      <th></th>\n",
       "      <th>mean_fit_time</th>\n",
       "      <th>std_fit_time</th>\n",
       "      <th>mean_score_time</th>\n",
       "      <th>std_score_time</th>\n",
       "      <th>param_min_samples_leaf</th>\n",
       "      <th>params</th>\n",
       "      <th>split0_test_score</th>\n",
       "      <th>split1_test_score</th>\n",
       "      <th>split2_test_score</th>\n",
       "      <th>split3_test_score</th>\n",
       "      <th>...</th>\n",
       "      <th>mean_test_score</th>\n",
       "      <th>std_test_score</th>\n",
       "      <th>rank_test_score</th>\n",
       "      <th>split0_train_score</th>\n",
       "      <th>split1_train_score</th>\n",
       "      <th>split2_train_score</th>\n",
       "      <th>split3_train_score</th>\n",
       "      <th>split4_train_score</th>\n",
       "      <th>mean_train_score</th>\n",
       "      <th>std_train_score</th>\n",
       "    </tr>\n",
       "  </thead>\n",
       "  <tbody>\n",
       "    <tr>\n",
       "      <th>0</th>\n",
       "      <td>0.201661</td>\n",
       "      <td>0.006671</td>\n",
       "      <td>0.006245</td>\n",
       "      <td>0.007648</td>\n",
       "      <td>100</td>\n",
       "      <td>{'min_samples_leaf': 100}</td>\n",
       "      <td>0.809807</td>\n",
       "      <td>0.810952</td>\n",
       "      <td>0.811905</td>\n",
       "      <td>0.814048</td>\n",
       "      <td>...</td>\n",
       "      <td>0.810143</td>\n",
       "      <td>0.003371</td>\n",
       "      <td>1</td>\n",
       "      <td>0.812846</td>\n",
       "      <td>0.809583</td>\n",
       "      <td>0.811845</td>\n",
       "      <td>0.819643</td>\n",
       "      <td>0.809535</td>\n",
       "      <td>0.812691</td>\n",
       "      <td>0.003706</td>\n",
       "    </tr>\n",
       "    <tr>\n",
       "      <th>1</th>\n",
       "      <td>0.184336</td>\n",
       "      <td>0.006251</td>\n",
       "      <td>0.006244</td>\n",
       "      <td>0.007647</td>\n",
       "      <td>150</td>\n",
       "      <td>{'min_samples_leaf': 150}</td>\n",
       "      <td>0.811235</td>\n",
       "      <td>0.809524</td>\n",
       "      <td>0.811667</td>\n",
       "      <td>0.802381</td>\n",
       "      <td>...</td>\n",
       "      <td>0.808000</td>\n",
       "      <td>0.003625</td>\n",
       "      <td>4</td>\n",
       "      <td>0.813263</td>\n",
       "      <td>0.807976</td>\n",
       "      <td>0.811310</td>\n",
       "      <td>0.810119</td>\n",
       "      <td>0.810845</td>\n",
       "      <td>0.810702</td>\n",
       "      <td>0.001716</td>\n",
       "    </tr>\n",
       "    <tr>\n",
       "      <th>2</th>\n",
       "      <td>0.174882</td>\n",
       "      <td>0.006307</td>\n",
       "      <td>0.000000</td>\n",
       "      <td>0.000000</td>\n",
       "      <td>200</td>\n",
       "      <td>{'min_samples_leaf': 200}</td>\n",
       "      <td>0.805761</td>\n",
       "      <td>0.812619</td>\n",
       "      <td>0.812143</td>\n",
       "      <td>0.803810</td>\n",
       "      <td>...</td>\n",
       "      <td>0.809000</td>\n",
       "      <td>0.003555</td>\n",
       "      <td>2</td>\n",
       "      <td>0.806000</td>\n",
       "      <td>0.810000</td>\n",
       "      <td>0.812619</td>\n",
       "      <td>0.809643</td>\n",
       "      <td>0.813404</td>\n",
       "      <td>0.810333</td>\n",
       "      <td>0.002608</td>\n",
       "    </tr>\n",
       "    <tr>\n",
       "      <th>3</th>\n",
       "      <td>0.164212</td>\n",
       "      <td>0.006999</td>\n",
       "      <td>0.003123</td>\n",
       "      <td>0.006246</td>\n",
       "      <td>250</td>\n",
       "      <td>{'min_samples_leaf': 250}</td>\n",
       "      <td>0.812426</td>\n",
       "      <td>0.809524</td>\n",
       "      <td>0.804524</td>\n",
       "      <td>0.813571</td>\n",
       "      <td>...</td>\n",
       "      <td>0.809000</td>\n",
       "      <td>0.003723</td>\n",
       "      <td>2</td>\n",
       "      <td>0.813917</td>\n",
       "      <td>0.807381</td>\n",
       "      <td>0.803810</td>\n",
       "      <td>0.817083</td>\n",
       "      <td>0.806500</td>\n",
       "      <td>0.809738</td>\n",
       "      <td>0.004952</td>\n",
       "    </tr>\n",
       "    <tr>\n",
       "      <th>4</th>\n",
       "      <td>0.150991</td>\n",
       "      <td>0.007878</td>\n",
       "      <td>0.007241</td>\n",
       "      <td>0.007074</td>\n",
       "      <td>300</td>\n",
       "      <td>{'min_samples_leaf': 300}</td>\n",
       "      <td>0.805522</td>\n",
       "      <td>0.802381</td>\n",
       "      <td>0.809762</td>\n",
       "      <td>0.799762</td>\n",
       "      <td>...</td>\n",
       "      <td>0.804190</td>\n",
       "      <td>0.003351</td>\n",
       "      <td>6</td>\n",
       "      <td>0.803798</td>\n",
       "      <td>0.802679</td>\n",
       "      <td>0.811845</td>\n",
       "      <td>0.806607</td>\n",
       "      <td>0.807869</td>\n",
       "      <td>0.806559</td>\n",
       "      <td>0.003236</td>\n",
       "    </tr>\n",
       "  </tbody>\n",
       "</table>\n",
       "<p>5 rows × 21 columns</p>\n",
       "</div>"
      ],
      "text/plain": [
       "   mean_fit_time  std_fit_time  mean_score_time  std_score_time  \\\n",
       "0       0.201661      0.006671         0.006245        0.007648   \n",
       "1       0.184336      0.006251         0.006244        0.007647   \n",
       "2       0.174882      0.006307         0.000000        0.000000   \n",
       "3       0.164212      0.006999         0.003123        0.006246   \n",
       "4       0.150991      0.007878         0.007241        0.007074   \n",
       "\n",
       "  param_min_samples_leaf                     params  split0_test_score  \\\n",
       "0                    100  {'min_samples_leaf': 100}           0.809807   \n",
       "1                    150  {'min_samples_leaf': 150}           0.811235   \n",
       "2                    200  {'min_samples_leaf': 200}           0.805761   \n",
       "3                    250  {'min_samples_leaf': 250}           0.812426   \n",
       "4                    300  {'min_samples_leaf': 300}           0.805522   \n",
       "\n",
       "   split1_test_score  split2_test_score  split3_test_score       ...         \\\n",
       "0           0.810952           0.811905           0.814048       ...          \n",
       "1           0.809524           0.811667           0.802381       ...          \n",
       "2           0.812619           0.812143           0.803810       ...          \n",
       "3           0.809524           0.804524           0.813571       ...          \n",
       "4           0.802381           0.809762           0.799762       ...          \n",
       "\n",
       "   mean_test_score  std_test_score  rank_test_score  split0_train_score  \\\n",
       "0         0.810143        0.003371                1            0.812846   \n",
       "1         0.808000        0.003625                4            0.813263   \n",
       "2         0.809000        0.003555                2            0.806000   \n",
       "3         0.809000        0.003723                2            0.813917   \n",
       "4         0.804190        0.003351                6            0.803798   \n",
       "\n",
       "   split1_train_score  split2_train_score  split3_train_score  \\\n",
       "0            0.809583            0.811845            0.819643   \n",
       "1            0.807976            0.811310            0.810119   \n",
       "2            0.810000            0.812619            0.809643   \n",
       "3            0.807381            0.803810            0.817083   \n",
       "4            0.802679            0.811845            0.806607   \n",
       "\n",
       "   split4_train_score  mean_train_score  std_train_score  \n",
       "0            0.809535          0.812691         0.003706  \n",
       "1            0.810845          0.810702         0.001716  \n",
       "2            0.813404          0.810333         0.002608  \n",
       "3            0.806500          0.809738         0.004952  \n",
       "4            0.807869          0.806559         0.003236  \n",
       "\n",
       "[5 rows x 21 columns]"
      ]
     },
     "execution_count": 23,
     "metadata": {},
     "output_type": "execute_result"
    }
   ],
   "source": [
    "# scores of GridSearch CV\n",
    "scores = rf.cv_results_\n",
    "pd.DataFrame(scores).head()"
   ]
  },
  {
   "cell_type": "code",
   "execution_count": 24,
   "metadata": {},
   "outputs": [
    {
     "data": {
      "image/png": "[encoded data removed]",
      "text/plain": [
       "<Figure size 432x288 with 1 Axes>"
      ]
     },
     "metadata": {
      "needs_background": "light"
     },
     "output_type": "display_data"
    }
   ],
   "source": [
    "# plotting accuracies with min_samples_leaf\n",
    "plt.figure()\n",
    "plt.plot(scores[\"param_min_samples_leaf\"], \n",
    "         scores[\"mean_train_score\"], \n",
    "         label=\"training accuracy\")\n",
    "plt.plot(scores[\"param_min_samples_leaf\"], \n",
    "         scores[\"mean_test_score\"], \n",
    "         label=\"test accuracy\")\n",
    "plt.xlabel(\"min_samples_leaf\")\n",
    "plt.ylabel(\"Accuracy\")\n",
    "plt.legend()\n",
    "plt.show()"
   ]
  },
  {
   "cell_type": "markdown",
   "metadata": {},
   "source": [
    "You can see that the model starts of overfit as you decrease the value of min_samples_leaf. "
   ]
  },
  {
   "cell_type": "markdown",
   "metadata": {},
   "source": [
    "### Tuning min_samples_split\n",
    "\n",
    "Let's now look at the performance of the ensemble as we vary min_samples_split."
   ]
  },
  {
   "cell_type": "code",
   "execution_count": 25,
   "metadata": {
    "scrolled": true
   },
   "outputs": [
    {
     "data": {
      "text/plain": [
       "GridSearchCV(cv=5, error_score='raise',\n",
       "       estimator=RandomForestClassifier(bootstrap=True, class_weight=None, criterion='gini',\n",
       "            max_depth=None, max_features='auto', max_leaf_nodes=None,\n",
       "            min_impurity_decrease=0.0, min_impurity_split=None,\n",
       "            min_samples_leaf=1, min_samples_split=2,\n",
       "            min_weight_fraction_leaf=0.0, n_estimators=10, n_jobs=1,\n",
       "            oob_score=False, random_state=None, verbose=0,\n",
       "            warm_start=False),\n",
       "       fit_params=None, iid=True, n_jobs=1,\n",
       "       param_grid={'min_samples_split': range(200, 500, 50)},\n",
       "       pre_dispatch='2*n_jobs', refit=True, return_train_score='warn',\n",
       "       scoring='accuracy', verbose=0)"
      ]
     },
     "execution_count": 25,
     "metadata": {},
     "output_type": "execute_result"
    }
   ],
   "source": [
    "# GridSearchCV to find optimal min_samples_split\n",
    "from sklearn.model_selection import KFold\n",
    "from sklearn.model_selection import GridSearchCV\n",
    "\n",
    "\n",
    "# specify number of folds for k-fold CV\n",
    "n_folds = 5\n",
    "\n",
    "# parameters to build the model on\n",
    "parameters = {'min_samples_split': range(200, 500, 50)}\n",
    "\n",
    "# instantiate the model\n",
    "rf = RandomForestClassifier()\n",
    "\n",
    "\n",
    "# fit tree on training data\n",
    "rf = GridSearchCV(rf, parameters, \n",
    "                    cv=n_folds, \n",
    "                   scoring=\"accuracy\")\n",
    "rf.fit(X_train, y_train)"
   ]
  },
  {
   "cell_type": "code",
   "execution_count": 26,
   "metadata": {},
   "outputs": [
    {
     "data": {
      "text/html": [
       "<div>\n",
       "<style scoped>\n",
       "    .dataframe tbody tr th:only-of-type {\n",
       "        vertical-align: middle;\n",
       "    }\n",
       "\n",
       "    .dataframe tbody tr th {\n",
       "        vertical-align: top;\n",
       "    }\n",
       "\n",
       "    .dataframe thead th {\n",
       "        text-align: right;\n",
       "    }\n",
       "</style>\n",
       "<table border=\"1\" class=\"dataframe\">\n",
       "  <thead>\n",
       "    <tr style=\"text-align: right;\">\n",
       "      <th></th>\n",
       "      <th>mean_fit_time</th>\n",
       "      <th>std_fit_time</th>\n",
       "      <th>mean_score_time</th>\n",
       "      <th>std_score_time</th>\n",
       "      <th>param_min_samples_split</th>\n",
       "      <th>params</th>\n",
       "      <th>split0_test_score</th>\n",
       "      <th>split1_test_score</th>\n",
       "      <th>split2_test_score</th>\n",
       "      <th>split3_test_score</th>\n",
       "      <th>...</th>\n",
       "      <th>mean_test_score</th>\n",
       "      <th>std_test_score</th>\n",
       "      <th>rank_test_score</th>\n",
       "      <th>split0_train_score</th>\n",
       "      <th>split1_train_score</th>\n",
       "      <th>split2_train_score</th>\n",
       "      <th>split3_train_score</th>\n",
       "      <th>split4_train_score</th>\n",
       "      <th>mean_train_score</th>\n",
       "      <th>std_train_score</th>\n",
       "    </tr>\n",
       "  </thead>\n",
       "  <tbody>\n",
       "    <tr>\n",
       "      <th>0</th>\n",
       "      <td>0.276638</td>\n",
       "      <td>0.010792</td>\n",
       "      <td>0.009370</td>\n",
       "      <td>0.007650</td>\n",
       "      <td>200</td>\n",
       "      <td>{'min_samples_split': 200}</td>\n",
       "      <td>0.817186</td>\n",
       "      <td>0.821190</td>\n",
       "      <td>0.818571</td>\n",
       "      <td>0.813095</td>\n",
       "      <td>...</td>\n",
       "      <td>0.818238</td>\n",
       "      <td>0.002995</td>\n",
       "      <td>2</td>\n",
       "      <td>0.823323</td>\n",
       "      <td>0.822798</td>\n",
       "      <td>0.822560</td>\n",
       "      <td>0.823929</td>\n",
       "      <td>0.824891</td>\n",
       "      <td>0.823500</td>\n",
       "      <td>0.000840</td>\n",
       "    </tr>\n",
       "    <tr>\n",
       "      <th>1</th>\n",
       "      <td>0.265674</td>\n",
       "      <td>0.009716</td>\n",
       "      <td>0.009361</td>\n",
       "      <td>0.007643</td>\n",
       "      <td>250</td>\n",
       "      <td>{'min_samples_split': 250}</td>\n",
       "      <td>0.816948</td>\n",
       "      <td>0.820238</td>\n",
       "      <td>0.818571</td>\n",
       "      <td>0.815476</td>\n",
       "      <td>...</td>\n",
       "      <td>0.817190</td>\n",
       "      <td>0.002015</td>\n",
       "      <td>3</td>\n",
       "      <td>0.821299</td>\n",
       "      <td>0.822798</td>\n",
       "      <td>0.822619</td>\n",
       "      <td>0.821905</td>\n",
       "      <td>0.822451</td>\n",
       "      <td>0.822214</td>\n",
       "      <td>0.000547</td>\n",
       "    </tr>\n",
       "    <tr>\n",
       "      <th>2</th>\n",
       "      <td>0.257432</td>\n",
       "      <td>0.006829</td>\n",
       "      <td>0.006246</td>\n",
       "      <td>0.007649</td>\n",
       "      <td>300</td>\n",
       "      <td>{'min_samples_split': 300}</td>\n",
       "      <td>0.814568</td>\n",
       "      <td>0.815000</td>\n",
       "      <td>0.816667</td>\n",
       "      <td>0.811667</td>\n",
       "      <td>...</td>\n",
       "      <td>0.815190</td>\n",
       "      <td>0.002154</td>\n",
       "      <td>5</td>\n",
       "      <td>0.821061</td>\n",
       "      <td>0.820536</td>\n",
       "      <td>0.820000</td>\n",
       "      <td>0.820893</td>\n",
       "      <td>0.820784</td>\n",
       "      <td>0.820655</td>\n",
       "      <td>0.000369</td>\n",
       "    </tr>\n",
       "    <tr>\n",
       "      <th>3</th>\n",
       "      <td>0.239558</td>\n",
       "      <td>0.006585</td>\n",
       "      <td>0.009368</td>\n",
       "      <td>0.007649</td>\n",
       "      <td>350</td>\n",
       "      <td>{'min_samples_split': 350}</td>\n",
       "      <td>0.816710</td>\n",
       "      <td>0.822619</td>\n",
       "      <td>0.821667</td>\n",
       "      <td>0.816429</td>\n",
       "      <td>...</td>\n",
       "      <td>0.819048</td>\n",
       "      <td>0.002587</td>\n",
       "      <td>1</td>\n",
       "      <td>0.820585</td>\n",
       "      <td>0.819821</td>\n",
       "      <td>0.820238</td>\n",
       "      <td>0.821012</td>\n",
       "      <td>0.821499</td>\n",
       "      <td>0.820631</td>\n",
       "      <td>0.000585</td>\n",
       "    </tr>\n",
       "    <tr>\n",
       "      <th>4</th>\n",
       "      <td>0.242628</td>\n",
       "      <td>0.008991</td>\n",
       "      <td>0.007442</td>\n",
       "      <td>0.007022</td>\n",
       "      <td>400</td>\n",
       "      <td>{'min_samples_split': 400}</td>\n",
       "      <td>0.817900</td>\n",
       "      <td>0.821190</td>\n",
       "      <td>0.820714</td>\n",
       "      <td>0.809762</td>\n",
       "      <td>...</td>\n",
       "      <td>0.816286</td>\n",
       "      <td>0.004657</td>\n",
       "      <td>4</td>\n",
       "      <td>0.820227</td>\n",
       "      <td>0.818393</td>\n",
       "      <td>0.818155</td>\n",
       "      <td>0.816726</td>\n",
       "      <td>0.814178</td>\n",
       "      <td>0.817536</td>\n",
       "      <td>0.002015</td>\n",
       "    </tr>\n",
       "  </tbody>\n",
       "</table>\n",
       "<p>5 rows × 21 columns</p>\n",
       "</div>"
      ],
      "text/plain": [
       "   mean_fit_time  std_fit_time  mean_score_time  std_score_time  \\\n",
       "0       0.276638      0.010792         0.009370        0.007650   \n",
       "1       0.265674      0.009716         0.009361        0.007643   \n",
       "2       0.257432      0.006829         0.006246        0.007649   \n",
       "3       0.239558      0.006585         0.009368        0.007649   \n",
       "4       0.242628      0.008991         0.007442        0.007022   \n",
       "\n",
       "  param_min_samples_split                      params  split0_test_score  \\\n",
       "0                     200  {'min_samples_split': 200}           0.817186   \n",
       "1                     250  {'min_samples_split': 250}           0.816948   \n",
       "2                     300  {'min_samples_split': 300}           0.814568   \n",
       "3                     350  {'min_samples_split': 350}           0.816710   \n",
       "4                     400  {'min_samples_split': 400}           0.817900   \n",
       "\n",
       "   split1_test_score  split2_test_score  split3_test_score       ...         \\\n",
       "0           0.821190           0.818571           0.813095       ...          \n",
       "1           0.820238           0.818571           0.815476       ...          \n",
       "2           0.815000           0.816667           0.811667       ...          \n",
       "3           0.822619           0.821667           0.816429       ...          \n",
       "4           0.821190           0.820714           0.809762       ...          \n",
       "\n",
       "   mean_test_score  std_test_score  rank_test_score  split0_train_score  \\\n",
       "0         0.818238        0.002995                2            0.823323   \n",
       "1         0.817190        0.002015                3            0.821299   \n",
       "2         0.815190        0.002154                5            0.821061   \n",
       "3         0.819048        0.002587                1            0.820585   \n",
       "4         0.816286        0.004657                4            0.820227   \n",
       "\n",
       "   split1_train_score  split2_train_score  split3_train_score  \\\n",
       "0            0.822798            0.822560            0.823929   \n",
       "1            0.822798            0.822619            0.821905   \n",
       "2            0.820536            0.820000            0.820893   \n",
       "3            0.819821            0.820238            0.821012   \n",
       "4            0.818393            0.818155            0.816726   \n",
       "\n",
       "   split4_train_score  mean_train_score  std_train_score  \n",
       "0            0.824891          0.823500         0.000840  \n",
       "1            0.822451          0.822214         0.000547  \n",
       "2            0.820784          0.820655         0.000369  \n",
       "3            0.821499          0.820631         0.000585  \n",
       "4            0.814178          0.817536         0.002015  \n",
       "\n",
       "[5 rows x 21 columns]"
      ]
     },
     "execution_count": 26,
     "metadata": {},
     "output_type": "execute_result"
    }
   ],
   "source": [
    "# scores of GridSearch CV\n",
    "scores = rf.cv_results_\n",
    "pd.DataFrame(scores).head()"
   ]
  },
  {
   "cell_type": "code",
   "execution_count": 27,
   "metadata": {},
   "outputs": [
    {
     "data": {
      "image/png": "[encoded data removed]",
      "text/plain": [
       "<Figure size 432x288 with 1 Axes>"
      ]
     },
     "metadata": {
      "needs_background": "light"
     },
     "output_type": "display_data"
    }
   ],
   "source": [
    "# plotting accuracies with min_samples_split\n",
    "plt.figure()\n",
    "plt.plot(scores[\"param_min_samples_split\"], \n",
    "         scores[\"mean_train_score\"], \n",
    "         label=\"training accuracy\")\n",
    "plt.plot(scores[\"param_min_samples_split\"], \n",
    "         scores[\"mean_test_score\"], \n",
    "         label=\"test accuracy\")\n",
    "plt.xlabel(\"min_samples_split\")\n",
    "plt.ylabel(\"Accuracy\")\n",
    "plt.legend()\n",
    "plt.show()"
   ]
  },
  {
   "cell_type": "markdown",
   "metadata": {},
   "source": [
    "<hr>"
   ]
  },
  {
   "cell_type": "markdown",
   "metadata": {},
   "source": [
    "## Grid Search to Find Optimal Hyperparameters"
   ]
  },
  {
   "cell_type": "markdown",
   "metadata": {},
   "source": [
    "We can now find the optimal hyperparameters using GridSearchCV."
   ]
  },
  {
   "cell_type": "code",
   "execution_count": 28,
   "metadata": {},
   "outputs": [],
   "source": [
    "# Create the parameter grid based on the results of random search \n",
    "param_grid = {\n",
    "    'max_depth': [4,8,10],\n",
    "    'min_samples_leaf': range(100, 400, 200),\n",
    "    'min_samples_split': range(200, 500, 200),\n",
    "    'n_estimators': [100,200, 300], \n",
    "    'max_features': [5, 10]\n",
    "}\n",
    "# Create a based model\n",
    "rf = RandomForestClassifier()\n",
    "# Instantiate the grid search model\n",
    "grid_search = GridSearchCV(estimator = rf, param_grid = param_grid, \n",
    "                          cv = 3, n_jobs = -1,verbose = 1)"
   ]
  },
  {
   "cell_type": "code",
   "execution_count": 29,
   "metadata": {},
   "outputs": [
    {
     "name": "stdout",
     "output_type": "stream",
     "text": [
      "Fitting 3 folds for each of 72 candidates, totalling 216 fits\n"
     ]
    },
    {
     "name": "stderr",
     "output_type": "stream",
     "text": [
      "[Parallel(n_jobs=-1)]: Done  42 tasks      | elapsed:   42.2s\n",
      "[Parallel(n_jobs=-1)]: Done 192 tasks      | elapsed:  5.1min\n",
      "[Parallel(n_jobs=-1)]: Done 216 out of 216 | elapsed:  6.1min finished\n"
     ]
    },
    {
     "data": {
      "text/plain": [
       "GridSearchCV(cv=3, error_score='raise',\n",
       "       estimator=RandomForestClassifier(bootstrap=True, class_weight=None, criterion='gini',\n",
       "            max_depth=None, max_features='auto', max_leaf_nodes=None,\n",
       "            min_impurity_decrease=0.0, min_impurity_split=None,\n",
       "            min_samples_leaf=1, min_samples_split=2,\n",
       "            min_weight_fraction_leaf=0.0, n_estimators=10, n_jobs=1,\n",
       "            oob_score=False, random_state=None, verbose=0,\n",
       "            warm_start=False),\n",
       "       fit_params=None, iid=True, n_jobs=-1,\n",
       "       param_grid={'max_depth': [4, 8, 10], 'min_samples_leaf': range(100, 400, 200), 'min_samples_split': range(200, 500, 200), 'n_estimators': [100, 200, 300], 'max_features': [5, 10]},\n",
       "       pre_dispatch='2*n_jobs', refit=True, return_train_score='warn',\n",
       "       scoring=None, verbose=1)"
      ]
     },
     "execution_count": 29,
     "metadata": {},
     "output_type": "execute_result"
    }
   ],
   "source": [
    "# Fit the grid search to the data\n",
    "grid_search.fit(X_train, y_train)"
   ]
  },
  {
   "cell_type": "code",
   "execution_count": 30,
   "metadata": {},
   "outputs": [
    {
     "name": "stdout",
     "output_type": "stream",
     "text": [
      "We can get accuracy of 0.8183809523809524 using {'max_depth': 4, 'max_features': 10, 'min_samples_leaf': 100, 'min_samples_split': 400, 'n_estimators': 300}\n"
     ]
    }
   ],
   "source": [
    "# printing the optimal accuracy score and hyperparameters\n",
    "print('We can get accuracy of',grid_search.best_score_,'using',grid_search.best_params_)"
   ]
  },
  {
   "cell_type": "markdown",
   "metadata": {},
   "source": [
    "**Fitting the final model with the best parameters obtained from grid search.**"
   ]
  },
  {
   "cell_type": "code",
   "execution_count": 31,
   "metadata": {},
   "outputs": [],
   "source": [
    "# model with the best hyperparameters\n",
    "from sklearn.ensemble import RandomForestClassifier\n",
    "rfc = RandomForestClassifier(bootstrap=True,\n",
    "                             max_depth=10,\n",
    "                             min_samples_leaf=100, \n",
    "                             min_samples_split=200,\n",
    "                             max_features=10,\n",
    "                             n_estimators=100)"
   ]
  },
  {
   "cell_type": "code",
   "execution_count": 32,
   "metadata": {},
   "outputs": [
    {
     "data": {
      "text/plain": [
       "RandomForestClassifier(bootstrap=True, class_weight=None, criterion='gini',\n",
       "            max_depth=10, max_features=10, max_leaf_nodes=None,\n",
       "            min_impurity_decrease=0.0, min_impurity_split=None,\n",
       "            min_samples_leaf=100, min_samples_split=200,\n",
       "            min_weight_fraction_leaf=0.0, n_estimators=100, n_jobs=1,\n",
       "            oob_score=False, random_state=None, verbose=0,\n",
       "            warm_start=False)"
      ]
     },
     "execution_count": 32,
     "metadata": {},
     "output_type": "execute_result"
    }
   ],
   "source": [
    "# fit\n",
    "rfc.fit(X_train,y_train)"
   ]
  },
  {
   "cell_type": "code",
   "execution_count": 33,
   "metadata": {},
   "outputs": [],
   "source": [
    "# predict\n",
    "predictions = rfc.predict(X_test)"
   ]
  },
  {
   "cell_type": "code",
   "execution_count": 34,
   "metadata": {},
   "outputs": [],
   "source": [
    "# evaluation metrics\n",
    "from sklearn.metrics import classification_report,confusion_matrix"
   ]
  },
  {
   "cell_type": "code",
   "execution_count": 35,
   "metadata": {},
   "outputs": [
    {
     "name": "stdout",
     "output_type": "stream",
     "text": [
      "             precision    recall  f1-score   support\n",
      "\n",
      "          0       0.84      0.96      0.90      7058\n",
      "          1       0.70      0.35      0.47      1942\n",
      "\n",
      "avg / total       0.81      0.83      0.80      9000\n",
      "\n"
     ]
    }
   ],
   "source": [
    "print(classification_report(y_test,predictions))"
   ]
  },
  {
   "cell_type": "code",
   "execution_count": 36,
   "metadata": {},
   "outputs": [
    {
     "name": "stdout",
     "output_type": "stream",
     "text": [
      "[[6757  301]\n",
      " [1254  688]]\n"
     ]
    }
   ],
   "source": [
    "print(confusion_matrix(y_test,predictions))"
   ]
  }
 ],
 "metadata": {
  "kernelspec": {
   "display_name": "Python 3",
   "language": "python",
   "name": "python3"
  },
  "language_info": {
   "codemirror_mode": {
    "name": "ipython",
    "version": 3
   },
   "file_extension": ".py",
   "mimetype": "text/x-python",
   "name": "python",
   "nbconvert_exporter": "python",
   "pygments_lexer": "ipython3",
   "version": "3.7.0"
  }
 },
 "nbformat": 4,
 "nbformat_minor": 2
}
